{
 "cells": [
  {
   "cell_type": "markdown",
   "metadata": {},
   "source": [
    "Dynamic Programming\n",
    "--------------------\n",
    "Dynamic Programming is mainly an optimization over plain recursion. Wherever we see a recursive solution that has repeated calls for same inputs, we can optimize it using Dynamic Programming. The idea is to simply store the results of subproblems, so that we do not have to re-compute them when needed later. This simple optimization reduces time complexities from exponential to polynomial.\n",
    "\n",
    "##### \"Overlapping Subproblems\" / \"Optimal Substructure\""
   ]
  },
  {
   "cell_type": "code",
   "execution_count": 9,
   "metadata": {},
   "outputs": [
    {
     "name": "stdout",
     "output_type": "stream",
     "text": [
      "13\n"
     ]
    }
   ],
   "source": [
    "def fib(n):\n",
    "    if n<=1:\n",
    "        return n\n",
    "    return fib(n-1)+fib(n-2)\n",
    "\n",
    "print(fib(7))"
   ]
  },
  {
   "cell_type": "markdown",
   "metadata": {},
   "source": [
    "##### a) Memoization (Top Down)\n"
   ]
  },
  {
   "cell_type": "code",
   "execution_count": 10,
   "metadata": {},
   "outputs": [
    {
     "name": "stdout",
     "output_type": "stream",
     "text": [
      "Fibonacci Number is  5702887\n"
     ]
    }
   ],
   "source": [
    "def fib(n, lookup):\n",
    "    if n<=1:\n",
    "        lookup[n]=n\n",
    "    if lookup[n] is None:\n",
    "        lookup[n]=fib(n-1,lookup)+fib(n-2,lookup)\n",
    "    return lookup[n]\n",
    "\n",
    "def main():\n",
    "    n=34\n",
    "    lookup=[None]*101\n",
    "    print(\"Fibonacci Number is \", fib(n,lookup))\n",
    "\n",
    "if __name__ == \"__main__\":\n",
    "    main()\n"
   ]
  },
  {
   "cell_type": "markdown",
   "metadata": {},
   "source": [
    "##### b) Tabulation (Bottom Up)"
   ]
  },
  {
   "cell_type": "code",
   "execution_count": 11,
   "metadata": {},
   "outputs": [
    {
     "name": "stdout",
     "output_type": "stream",
     "text": [
      "Fibonacci number is  34\n"
     ]
    }
   ],
   "source": [
    "def fib(n):\n",
    "    f=[0]*(n+1)\n",
    "    f[1]=1\n",
    "    for i in range(2,n+1):\n",
    "        f[i]=f[i-1]+f[i-2]\n",
    "    return f[n]\n",
    "\n",
    "def main():\n",
    "    n=9\n",
    "    print(\"Fibonacci number is \", fib(n))\n",
    "\n",
    "if __name__ == \"__main__\":\n",
    "    main()"
   ]
  },
  {
   "cell_type": "markdown",
   "metadata": {},
   "source": [
    "##### Steps to solve a DP\n",
    "1) Identify if it is a DP problem\n",
    "2) Decide a state expression with \n",
    "   least parameters\n",
    "3) Formulate state relationship    \n",
    "4) Do tabulation (or add memoization)"
   ]
  },
  {
   "cell_type": "markdown",
   "metadata": {},
   "source": [
    "Basic Problems of Dynamic Programming\n",
    "-------------------------------------\n",
    "##### 1. Longest Common Subsequence\n",
    "L(“ABCDGH”, “AEDFHR”) = MAX ( L(“ABCDG”, “AEDFHR”), L(“ABCDGH”, “AEDFH”) )          \n",
    "So the LCS problem has optimal substructure property as the main problem can be solved using solutions to subproblems."
   ]
  },
  {
   "cell_type": "code",
   "execution_count": 12,
   "metadata": {},
   "outputs": [
    {
     "name": "stdout",
     "output_type": "stream",
     "text": [
      "Length of LCS is  4\n"
     ]
    }
   ],
   "source": [
    "def lcs(X,Y,m,n):\n",
    "    if m==0 or n==0:\n",
    "        return 0\n",
    "    elif X[m-1]==Y[n-1]:\n",
    "        return 1+lcs(X,Y,m-1,n-1)\n",
    "    else:\n",
    "        return max(lcs(X,Y,m,n-1),lcs(X,Y,m-1,n))\n",
    "\n",
    "X=\"AGGTAB\"\n",
    "Y=\"GXTXAYB\"\n",
    "print(\"Length of LCS is \", lcs(X,Y,len(X),len(Y)))"
   ]
  },
  {
   "cell_type": "code",
   "execution_count": 13,
   "metadata": {},
   "outputs": [
    {
     "name": "stdout",
     "output_type": "stream",
     "text": [
      "Length of LCS is  4\n"
     ]
    }
   ],
   "source": [
    "# Memoization (Top-Down)\n",
    "def lcs(X, Y, m, n, dp):\n",
    "    if m==0 or n==0:\n",
    "        return 0\n",
    "    if dp[m][n] != -1:\n",
    "        return dp[m][n]\n",
    "    if X[m-1]==Y[n-1]:\n",
    "        dp[m][n] = 1+lcs(X,Y,m-1,n-1,dp)\n",
    "        return dp[m][n]\n",
    "    \n",
    "    dp[m][n] = max(lcs(X,Y,m,n-1,dp), lcs(X,Y,m-1,n,dp))\n",
    "    return dp[m][n]\n",
    "\n",
    "X=\"AGGTAB\"\n",
    "Y=\"GXTXAYB\"\n",
    "\n",
    "m=len(X)\n",
    "n=len(Y)\n",
    "dp=[[-1 for i in range(n+1)] for j in range(m+1)]\n",
    "\n",
    "print(\"Length of LCS is \", lcs(X,Y,m,n,dp))\n"
   ]
  },
  {
   "cell_type": "code",
   "execution_count": 14,
   "metadata": {},
   "outputs": [
    {
     "name": "stdout",
     "output_type": "stream",
     "text": [
      "Length of LCS is  4\n"
     ]
    }
   ],
   "source": [
    "# Tabulation (Bottom-Up)\n",
    "def lcs(X, Y):\n",
    "    m=len(X)\n",
    "    n=len(Y)\n",
    "\n",
    "    L=[[None]*(n+1) for i in range(m+1)]\n",
    "\n",
    "    for i in range(m+1):\n",
    "        for j in range(n+1):\n",
    "            if i==0 or j==0:\n",
    "                L[i][j]=0\n",
    "            elif X[i-1]==Y[j-1]:\n",
    "                L[i][j]=L[i-1][j-1]+1\n",
    "            else:\n",
    "                L[i][j]=max(L[i-1][j],L[i][j-1])\n",
    "    \n",
    "    return L[m][n]\n",
    "\n",
    "X=\"AGGTAB\"\n",
    "Y=\"GXTXAYB\"\n",
    "print(\"Length of LCS is \", lcs(X,Y))\n"
   ]
  },
  {
   "cell_type": "markdown",
   "metadata": {},
   "source": [
    "Intermediate Problems of Dynamic Programming\n",
    "--------------------------------------------\n",
    "##### 1) Floyd Warshall Algorithm\n",
    "1. k is not an intermediate vertex in shortest path from i to j. We keep the value of dist[i][j] as it is. \n",
    "2. k is an intermediate vertex in shortest path from i to j. We update the value of dist[i][j] as dist[i][k] + dist[k][j] if dist[i][j] > dist[i][k] + dist[k][j]\n"
   ]
  },
  {
   "cell_type": "code",
   "execution_count": 15,
   "metadata": {},
   "outputs": [
    {
     "name": "stdout",
     "output_type": "stream",
     "text": [
      "Following matrix shows the shortest distances between every pair of vertices\n",
      "     0\t      5\t      8\t      9\t \n",
      "    INF      0\t      3\t      4\t \n",
      "    INF     INF      0\t      1\t \n",
      "    INF     INF     INF      0\t \n"
     ]
    }
   ],
   "source": [
    "# Number of vertices in the graph\n",
    "V = 4\n",
    "\n",
    "# Use for vertices not connected to each other\n",
    "INF = 99999\n",
    "\n",
    "def floydWarshall(graph):\n",
    "\n",
    "    # Output matrix that will finally have the shortest distances between every pair of vertices\n",
    "    dist = list(map(lambda i: list(map(lambda j: j, i)), graph))\n",
    "    \n",
    "    for k in range(V):\n",
    "        for i in range(V):\n",
    "            for j in range(V):\n",
    "                dist[i][j] = min(dist[i][j], dist[i][k]+dist[k][j])\n",
    "    \n",
    "    printSolution(dist)\n",
    "\n",
    "def printSolution(dist):\n",
    "\n",
    "    print(\"Following matrix shows the shortest distances between every pair of vertices\")\n",
    "    for i in range(V):\n",
    "        for j in range(V):\n",
    "            if dist[i][j]==INF:\n",
    "                print(\"%7s\" % (\"INF\"), end=' ')\n",
    "            else:\n",
    "                print(\"%6d\\t\" % (dist[i][j]), end=' ')\n",
    "            if j==V-1:\n",
    "                print()\n",
    "\n",
    "graph = [[0,5,INF,10],\n",
    "         [INF,0,3,INF],\n",
    "         [INF,INF,0,1],\n",
    "         [INF,INF,INF,0]]\n",
    "\n",
    "floydWarshall(graph)\n"
   ]
  },
  {
   "cell_type": "markdown",
   "metadata": {},
   "source": [
    "##### 2) 0-1 Knapsack Problem\n",
    "Given weights and values of n items, put these items in a knapsack of capacity W to get the maximum total value in the knapsack."
   ]
  },
  {
   "cell_type": "code",
   "execution_count": 16,
   "metadata": {},
   "outputs": [
    {
     "name": "stdout",
     "output_type": "stream",
     "text": [
      "220\n"
     ]
    }
   ],
   "source": [
    "# Method 1: Recursion by Brute-Force algorithm OR Exhaustive Search.\n",
    "\n",
    "def knapSack(W, wt, val, n):\n",
    "\n",
    "    if n==0 or W==0:\n",
    "        return 0\n",
    "    if wt[n-1] > W:\n",
    "        return knapSack(W,wt,val,n-1)\n",
    "    else:\n",
    "        # nth item included / not included -> choose maximum\n",
    "        return max(val[n-1]+knapSack(W-wt[n-1],wt,val,n-1), knapSack(W,wt,val,n-1))\n",
    "\n",
    "val=[60,100,120]\n",
    "wt=[10,20,30]\n",
    "W=50\n",
    "n=len(val)\n",
    "print(knapSack(W,wt,val,n))\n",
    "\n",
    "# Time Complexity: O(2^n)"
   ]
  },
  {
   "cell_type": "code",
   "execution_count": 17,
   "metadata": {},
   "outputs": [
    {
     "name": "stdout",
     "output_type": "stream",
     "text": [
      "220\n"
     ]
    }
   ],
   "source": [
    "# Method 2: Dynamic Programming\n",
    "# In the Dynamic programming we will work considering the same cases as mentioned in the recursive approach. \n",
    "# In a DP[][] table let’s consider all the possible weights from ‘1’ to ‘W’ as the columns and weights that can be kept as the rows. \n",
    "\n",
    "def knapSack(W, wt,val, n):\n",
    "\n",
    "    K = [[0 for x in range(W+1)] for x in range(n+1)]\n",
    "\n",
    "    for i in range(n+1):\n",
    "        for w in range(W+1):\n",
    "            if i==0 or w==0:\n",
    "                K[i][w]=0\n",
    "            elif wt[i-1]<=w:\n",
    "                K[i][w]=max(val[i-1]+K[i-1][w-wt[i-1]], K[i-1][w])\n",
    "            else:\n",
    "                K[i][w]=K[i-1][w]\n",
    "    \n",
    "    return K[n][W]\n",
    "\n",
    "val = [60,100,120]\n",
    "wt = [10,20,30]\n",
    "W=50\n",
    "n=len(val)\n",
    "print(knapSack(W,wt,val,n))\n"
   ]
  },
  {
   "cell_type": "code",
   "execution_count": 18,
   "metadata": {},
   "outputs": [
    {
     "name": "stdout",
     "output_type": "stream",
     "text": [
      "220\n"
     ]
    }
   ],
   "source": [
    "# Scope for Improvement: We used the same approach but with optimized space complexity\n",
    "\n",
    "# We can improve using 2D array with only 2 rows\n",
    "def knapSack(W, wt,val, n):\n",
    "\n",
    "    K = [[0 for x in range(W+1)] for y in range(2)]\n",
    "\n",
    "    for i in range(n+1):\n",
    "        for w in range(W+1):\n",
    "            if i==0 or w==0:\n",
    "                K[i%2][w]=0\n",
    "            elif wt[i-1]<=w:\n",
    "                K[i%2][w]=max(val[i-1]+K[(i-1)%2][w-wt[i-1]], K[(i-1)%2][w])\n",
    "            else:\n",
    "                K[i%2][w]=K[(i-1)%2][w]\n",
    "    \n",
    "    return K[n%2][W]\n",
    "\n",
    "val = [60,100,120]\n",
    "wt = [10,20,30]\n",
    "W=50\n",
    "n=len(val)\n",
    "print(knapSack(W,wt,val,n))"
   ]
  },
  {
   "cell_type": "code",
   "execution_count": 19,
   "metadata": {},
   "outputs": [
    {
     "name": "stdout",
     "output_type": "stream",
     "text": [
      "220\n"
     ]
    }
   ],
   "source": [
    "# Method 3: This method uses Memoization Technique (an extension of recursive approach).\n",
    "\n",
    "val=[60,100,120]\n",
    "wt=[10,20,30]\n",
    "W=50\n",
    "n=len(val)\n",
    "\n",
    "t=[[-1 for i in range(W+1)] for j in range(n+1)]\n",
    "\n",
    "def knapSack(wt, val, W, n):\n",
    "\n",
    "    if n==0 or W==0:\n",
    "        return 0\n",
    "    if t[n][W]!=-1:\n",
    "        return t[n][W]\n",
    "        \n",
    "    if wt[n-1]<=W:\n",
    "        t[n][W]=max(val[n-1]+knapSack(wt,val,W-wt[n-1],n-1), knapSack(wt,val,W,n-1))\n",
    "        return t[n][W]\n",
    "    elif wt[n-1]>W:\n",
    "        t[n][W]=knapSack(wt,val,W,n-1)\n",
    "        return t[n][W]\n",
    "    \n",
    "print(knapSack(wt,val,W,n))\n"
   ]
  },
  {
   "cell_type": "code",
   "execution_count": 20,
   "metadata": {},
   "outputs": [
    {
     "name": "stdout",
     "output_type": "stream",
     "text": [
      "180\n"
     ]
    }
   ],
   "source": [
    "# Method 4: Again we use the dynamic programming approach with even more optimized space complexity .\n",
    "def knapSack(W, wt, val, n):\n",
    "    dp = [0 for i in range(W+1)]\n",
    "\n",
    "    for i in range(1,n+1):\n",
    "        # starting from back, so that we also have data of previous computation when taking n-1 items\n",
    "        for w in range(W,0,-1):\n",
    "            if wt[i-1]<w:\n",
    "                dp[w]=max(dp[w],dp[w-wt[i-1]]+val[i-1])\n",
    "    return dp[W]\n",
    "\n",
    "val=[60,100,120]\n",
    "wt=[10,20,30]\n",
    "W=50\n",
    "n=len(val)\n",
    "print(knapSack(W,wt,val,n))\n"
   ]
  },
  {
   "cell_type": "markdown",
   "metadata": {},
   "source": [
    "##### 3) Travelling Salesman Problem\n",
    "Given a set of cities and the distance between every pair of cities, the problem is to find the shortest possible route that visits every city exactly once and returns to the starting point.\n",
    "The problem is a famous NP-hard problem. There is no polynomial-time know solution for this problem. The following are different solutions for the traveling salesman problem.      \n",
    "      \n",
    "    If size of S is 2, then S must be {1, i},\n",
    "    C(S, i) = dist(1, i) \n",
    "    Else if size of S is greater than 2.\n",
    "    (S, i) = min { C(S-{i}, j) + dis(j, i)} where j belongs to S, j != i and j != 1.\n"
   ]
  },
  {
   "cell_type": "code",
   "execution_count": 21,
   "metadata": {},
   "outputs": [
    {
     "name": "stdout",
     "output_type": "stream",
     "text": [
      "The cost of most efficient tour = 80\n"
     ]
    }
   ],
   "source": [
    "n=4\n",
    "dist=[[0,0,0,0,0],[0,0,10,15,20],[0,10,0,25,25],[0,15,25,0,30],[0,20,25,30,0]]\n",
    "# memoization for top down recurtion\n",
    "memo=[[-1]*(1<<(n+1)) for _ in range(n+1)]\n",
    "\n",
    "def fun(i, mask):\n",
    "\n",
    "    if mask==((1<<i) | 3):\n",
    "        return dist[1][i]\n",
    "    if memo[i][mask]!=-1:\n",
    "        return memo[i][mask]\n",
    "    \n",
    "    res = 10**9\n",
    "\n",
    "    for j in range(1,n+1):\n",
    "        if (mask & (1<<j)) != 0 and j!=i and j!=1:\n",
    "            res = min(res, fun(j, mask & (~(1<<i))) + dist[j][i])\n",
    "    memo[i][mask] = res\n",
    "    return res\n",
    "\n",
    "ans = 10**9\n",
    "for i in range(1,n+1):\n",
    "    # node 1 to i, and node i to 1\n",
    "    ans = min(ans, fun(i, (1<<(n+1))-1) + dist[i][1])\n",
    "\n",
    "print(\"The cost of most efficient tour = \" + str(ans))\n"
   ]
  },
  {
   "cell_type": "markdown",
   "metadata": {},
   "source": [
    "##### 4) Matrix Chain Multiplication\n",
    "\n",
    "Given a sequence of matrices, find the most efficient way to multiply these matrices together. The problem is not actually to perform the multiplications, but merely to decide in which order to perform the multiplications.\n",
    "\n",
    "    (AB)C = (10×30×5) + (10×5×60) = 1500 + 3000 = 4500 operations\n",
    "    A(BC) = (30×5×60) + (10×30×60) = 9000 + 18000 = 27000 operations.\n"
   ]
  },
  {
   "cell_type": "code",
   "execution_count": 22,
   "metadata": {},
   "outputs": [
    {
     "name": "stdout",
     "output_type": "stream",
     "text": [
      "Minimum number of multiplication is  30\n"
     ]
    }
   ],
   "source": [
    "# A naive recursive implementation\n",
    "\n",
    "import sys\n",
    "\n",
    "def MatrixChainOrder(p, i, j):\n",
    "    \n",
    "    if i==j:\n",
    "        return 0\n",
    "    _min = sys.maxsize\n",
    "\n",
    "    for k in range(i,j):\n",
    "        count = (MatrixChainOrder(p,i,k) + MatrixChainOrder(p,k+1,j) + p[i-1]*p[k]*p[j])\n",
    "        if count < _min:\n",
    "            _min = count\n",
    "    \n",
    "    return _min\n",
    "\n",
    "arr=[1,2,3,4,3]\n",
    "n=len(arr)\n",
    "print(\"Minimum number of multiplication is \", MatrixChainOrder(arr, 1, n-1))\n"
   ]
  },
  {
   "cell_type": "code",
   "execution_count": 23,
   "metadata": {},
   "outputs": [
    {
     "name": "stdout",
     "output_type": "stream",
     "text": [
      "Minimum number of multiplications is 18\n"
     ]
    }
   ],
   "source": [
    "# Dynamic Programming (Memoization)\n",
    "\n",
    "import sys\n",
    "dp=[[-1 for i in range(100)] for j in range(100)]\n",
    "\n",
    "def matrixChainMemoised(p, i, j):\n",
    "    if i==j:\n",
    "        return 0\n",
    "    if dp[i][j]!=-1:\n",
    "        return dp[i][j]\n",
    "    \n",
    "    dp[i][j] = sys.maxsize\n",
    "\n",
    "    for k in range(i,j):\n",
    "        dp[i][j] = min(dp[i][j], matrixChainMemoised(p,i,k)+matrixChainMemoised(p,k+1,j)+p[i-1]*p[k]*p[j])\n",
    "    \n",
    "    return dp[i][j]\n",
    "\n",
    "def MatrixChainOrder(p, n):\n",
    "    i=1\n",
    "    j=n-1\n",
    "    return matrixChainMemoised(p,i,j)\n",
    "\n",
    "arr = [1,2,3,4]\n",
    "n=len(arr)\n",
    "print(\"Minimum number of multiplications is\", MatrixChainOrder(arr,n))\n"
   ]
  },
  {
   "cell_type": "code",
   "execution_count": 24,
   "metadata": {},
   "outputs": [
    {
     "name": "stdout",
     "output_type": "stream",
     "text": [
      "Minimum number of multiplications is 18\n"
     ]
    }
   ],
   "source": [
    "# Dynamic Programming (Tabulation)\n",
    "import sys\n",
    "maxint=int(1e9+7)\n",
    "\n",
    "def MatrixChainOrder(p, n):\n",
    "    \n",
    "    m = [[0 for x in range(n)] for x in range(n)]\n",
    "\n",
    "    for i in range(1, n):\n",
    "        m[i][i] = 0\n",
    "    \n",
    "    for L in range(2, n):\n",
    "        for i in range(1,n-L+1):\n",
    "            j=i+L-1\n",
    "            m[i][j] = maxint\n",
    "            for k in range(i, j):\n",
    "                q = m[i][k] + m[k+1][j] + p[i-1]*p[k]*p[j]\n",
    "                if q < m[i][j]:\n",
    "                    m[i][j] = q\n",
    "\n",
    "    return m[1][n-1]\n",
    "\n",
    "arr = [1,2,3,4]\n",
    "size = len(arr)\n",
    "print(\"Minimum number of multiplications is \" + str(MatrixChainOrder(arr, size)))\n"
   ]
  }
 ],
 "metadata": {
  "kernelspec": {
   "display_name": "Python 3.10.5 64-bit (windows store)",
   "language": "python",
   "name": "python3"
  },
  "language_info": {
   "codemirror_mode": {
    "name": "ipython",
    "version": 3
   },
   "file_extension": ".py",
   "mimetype": "text/x-python",
   "name": "python",
   "nbconvert_exporter": "python",
   "pygments_lexer": "ipython3",
   "version": "3.10.5"
  },
  "orig_nbformat": 4,
  "vscode": {
   "interpreter": {
    "hash": "ff5d8768162e88d0d39226d83d8bbbfaa9aa18c5d290390f8d5157434fde1cb2"
   }
  }
 },
 "nbformat": 4,
 "nbformat_minor": 2
}
