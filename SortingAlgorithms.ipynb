{
 "cells": [
  {
   "cell_type": "markdown",
   "metadata": {},
   "source": [
    "Selection Sort\n",
    "===============\n",
    "\n",
    "##### The selection sort algorithm sorts an array by repeatedly finding the minimum element (considering ascending order) from unsorted part and putting it at the beginning. The algorithm maintains two subarrays in a given array.\n",
    "\n",
    "1. Initialize minimum value(min_idx) to location 0\n",
    "2. Traverse the array to find the minimum element in the array\n",
    "3. While traversing if any element smaller than min_idx is found then swap both the values.\n",
    "4. Then, increment min_idx to point to next element\n",
    "5. Repeat until array is sorted\n"
   ]
  },
  {
   "cell_type": "code",
   "execution_count": 1,
   "metadata": {},
   "outputs": [
    {
     "name": "stdout",
     "output_type": "stream",
     "text": [
      "Sorted array\n",
      "11 12 22 25 64 "
     ]
    }
   ],
   "source": [
    "import sys\n",
    "A = [64, 25, 12, 22, 11]\n",
    "\n",
    "for i in range(len(A)):\n",
    "\n",
    "    min_idx = i\n",
    "    for j in range(i+1, len(A)):\n",
    "        if A[min_idx] > A[j]:\n",
    "            min_idx = j\n",
    "    \n",
    "    A[i], A[min_idx] = A[min_idx], A[i]\n",
    "\n",
    "print(\"Sorted array\")\n",
    "for i in range(len(A)):\n",
    "    print(\"%d\" % A[i], end=\" \")\n"
   ]
  },
  {
   "cell_type": "markdown",
   "metadata": {},
   "source": [
    "Bubble Sort\n",
    "============\n",
    "\n",
    "##### Bubble Sort is the simplest sorting algorithm that works by repeatedly swapping the adjacent elements if they are in the wrong order. This algorithm is not suitable for large data sets as its average and worst case time complexity is quite high.\n",
    "\n"
   ]
  },
  {
   "cell_type": "code",
   "execution_count": 2,
   "metadata": {},
   "outputs": [
    {
     "name": "stdout",
     "output_type": "stream",
     "text": [
      "Sorted array is:\n",
      "11 12 22 25 34 64 90 "
     ]
    }
   ],
   "source": [
    "def bubbleSort(arr):\n",
    "    n = len(arr)\n",
    "\n",
    "    for i in range(n):\n",
    "        for j in range(0, n-i-1):\n",
    "            if arr[j] > arr[j+1]:\n",
    "                arr[j], arr[j+1] = arr[j+1], arr[j]\n",
    "\n",
    "arr = [64,34,25,12,22,11,90]\n",
    "\n",
    "bubbleSort(arr)\n",
    "\n",
    "print(\"Sorted array is:\")\n",
    "for i in range(len(arr)):\n",
    "    print(\"%d\" % arr[i], end=\" \")\n"
   ]
  },
  {
   "cell_type": "markdown",
   "metadata": {},
   "source": [
    "##### Optimized Implementation of Bubble Sort\n",
    "1. The above function always runs O(n^2) time even if the array is sorted.\n",
    "2. It can be optimized by stopping the algorithm if the inner loop didn’t cause any swap. \n"
   ]
  },
  {
   "cell_type": "code",
   "execution_count": 3,
   "metadata": {},
   "outputs": [
    {
     "name": "stdout",
     "output_type": "stream",
     "text": [
      "Sorted array:\n",
      "11 12 22 25 34 64 90 "
     ]
    }
   ],
   "source": [
    "def bubbleSort(arr):\n",
    "    n = len(arr)\n",
    "\n",
    "    for i in range(n):\n",
    "        swapped = False\n",
    "\n",
    "        for j in range(0, n-i-1):\n",
    "            if arr[j] > arr[j+1]:\n",
    "                arr[j], arr[j+1] = arr[j+1], arr[j]\n",
    "                swapped = True\n",
    "        if swapped == False:\n",
    "            break\n",
    "\n",
    "arr = [64,34,25,12,22,11,90]\n",
    "\n",
    "bubbleSort(arr)\n",
    "\n",
    "print(\"Sorted array:\")\n",
    "for i in range(len(arr)):\n",
    "    print(\"%d\" % arr[i], end=\" \")\n"
   ]
  },
  {
   "cell_type": "markdown",
   "metadata": {},
   "source": [
    "Insertion Sort\n",
    "==============\n",
    "\n",
    "##### Insertion sort is a simple sorting algorithm that works similar to the way you sort playing cards in your hands. The array is virtually split into a sorted and an unsorted part. Values from the unsorted part are picked and placed at the correct position in the sorted part.\n",
    "\n",
    "1. Characteristics of Insertion Sort\n",
    "- This algorithm is one of the simplest algorithm with simple implementation\n",
    "- Basically, Insertion sort is efficient for small data values\n",
    "- Insertion sort is adaptive in nature, i.e. it is appropriate for data sets which are already partially sorted.\n",
    "\n",
    "2. Insertion Sort Algorithm \n",
    "- Iterate from arr[1] to arr[N] over the array. \n",
    "- Compare the current element (key) to its predecessor. \n",
    "- If the key element is smaller than its predecessor, compare it to the elements before. Move the greater elements one position up to make space for the swapped element."
   ]
  },
  {
   "cell_type": "code",
   "execution_count": 4,
   "metadata": {},
   "outputs": [
    {
     "name": "stdout",
     "output_type": "stream",
     "text": [
      "5 6 11 12 13 "
     ]
    }
   ],
   "source": [
    "def insertionSort(arr):\n",
    "    for i in range(1, len(arr)):\n",
    "        key = arr[i]\n",
    "\n",
    "        j = i-1\n",
    "        while j >= 0 and key < arr[j]:\n",
    "            arr[j+1] = arr[j]\n",
    "            j-=1\n",
    "        arr[j+1] = key\n",
    "\n",
    "arr=[12,11,13,5,6]\n",
    "insertionSort(arr)\n",
    "for i in range(len(arr)):\n",
    "    print(\"%d\" % arr[i], end=\" \")\n"
   ]
  },
  {
   "cell_type": "markdown",
   "metadata": {},
   "source": [
    "Merge Sort\n",
    "===========\n",
    "##### Pseudocode\n",
    "- Declare left variable to 0 and right variable to n-1 \n",
    "- Find mid by medium formula. mid = (left+right)/2\n",
    "- Call merge sort on (left,mid)\n",
    "- Call merge sort on (mid+1,rear)\n",
    "- Continue till left is less than right\n",
    "- Then call merge function to perform merge sort.\n",
    "\n",
    "##### Algorithm\n",
    "1. start\n",
    "2. declare array and left, right, mid variable \n",
    "3. perform merge function.\n",
    "\n",
    "        mergesort(array, left, right)\n",
    "        mergesort(array, left, right)\n",
    "        if left > right\n",
    "        return\n",
    "        mid= (left+right)/2\n",
    "        mergesort(array, left, mid)\n",
    "        mergesort(array, mid+1, right)\n",
    "        merge(array, left, mid, right)\n",
    "        \n",
    "4. Stop\n"
   ]
  },
  {
   "cell_type": "code",
   "execution_count": 5,
   "metadata": {},
   "outputs": [
    {
     "name": "stdout",
     "output_type": "stream",
     "text": [
      "Given array is\n",
      "12 11 13 5 6 7 \n",
      "Sorted array is: \n",
      "5 6 7 11 12 13 \n"
     ]
    }
   ],
   "source": [
    "def mergeSort(arr):\n",
    "    \n",
    "    if len(arr) > 1:\n",
    "        mid = len(arr)//2\n",
    "        L = arr[:mid]\n",
    "        R = arr[mid:]\n",
    "        # sorting the first half\n",
    "        mergeSort(L)\n",
    "        # sorting the second half\n",
    "        mergeSort(R)\n",
    "\n",
    "        i = j = k = 0\n",
    "        # copy data to temp arrays L[] and R[]\n",
    "        while i < len(L) and j < len(R):\n",
    "            if L[i] < R[j]:\n",
    "                arr[k] = L[i]\n",
    "                i += 1\n",
    "            else:\n",
    "                arr[k] = R[j]\n",
    "                j += 1\n",
    "            k += 1\n",
    "        \n",
    "        # checking if any element was left\n",
    "        while i < len(L):\n",
    "            arr[k] = L[i]\n",
    "            i += 1\n",
    "            k += 1\n",
    "        \n",
    "        while j < len(R):\n",
    "            arr[k] = R[j]\n",
    "            j += 1\n",
    "            k += 1\n",
    "\n",
    "def printList(arr):\n",
    "    for i in range(len(arr)):\n",
    "        print(arr[i], end=\" \")\n",
    "    print()\n",
    "\n",
    "\n",
    "if __name__ == '__main__':\n",
    "    arr = [12,11,13,5,6,7]\n",
    "    print(\"Given array is\", end=\"\\n\")\n",
    "    printList(arr)\n",
    "    mergeSort(arr)\n",
    "    print(\"Sorted array is: \", end=\"\\n\")\n",
    "    printList(arr)\n"
   ]
  },
  {
   "cell_type": "markdown",
   "metadata": {},
   "source": [
    "##### Time Complexity\n",
    "O(n logn),  Sorting arrays on different machines. Merge Sort is a recursive algorithm and time complexity can be expressed as following recurrence relation. \n",
    "T(n) = 2T(n/2) + θ(n)\n",
    "\n",
    "The above recurrence can be solved either using the Recurrence Tree method or the Master method. It falls in case II of Master Method and the solution of the recurrence is θ(nLogn). Time complexity of Merge Sort is  θ(nLogn) in all 3 cases (worst, average and best) as merge sort always divides the array into two halves and takes linear time to merge two halves.\n",
    "\n",
    "##### Drawbacks\n",
    "- Slower comparative to the other sort algorithms for smaller tasks.\n",
    "- Merge sort algorithm requires an additional memory space of 0(n) for the temporary array.\n",
    "- It goes through the whole process even if the array is sorted."
   ]
  },
  {
   "cell_type": "markdown",
   "metadata": {},
   "source": [
    "QuickSort\n",
    "==========\n",
    "Like Merge Sort, QuickSort is a Divide and Conquer algorithm. It picks an element as pivot and partitions the given array around the picked pivot. There are many different versions of quickSort that pick pivot in different ways.\n",
    "\n",
    "The key process in quickSort is partition(). Target of partitions is, given an array and an element x of array as pivot, put x at its correct position in sorted array and put all smaller elements (smaller than x) before x, and put all greater elements (greater than x) after x. All this should be done in linear time."
   ]
  },
  {
   "cell_type": "code",
   "execution_count": 6,
   "metadata": {},
   "outputs": [
    {
     "name": "stdout",
     "output_type": "stream",
     "text": [
      "Sorted array: [1, 5, 7, 8, 9, 10]\n"
     ]
    }
   ],
   "source": [
    "# Function to find the partition position\n",
    "def partition(array, low, high):\n",
    "\n",
    "    # Choose the rightmost element as pivot\n",
    "    pivot = array[high]\n",
    "\n",
    "    # Pointer for greater element\n",
    "    i = low - 1\n",
    "\n",
    "    # Traverse through all elements\n",
    "    # compare each element with pivot\n",
    "    for j in range(low, high):\n",
    "        if array[j] <= pivot:\n",
    "            # If element smaller than pivot is found\n",
    "            # swap it with the greater element pointed by i\n",
    "            i = i + 1\n",
    "\n",
    "            # Swapping element at i with element at j\n",
    "            (array[i], array[j]) = (array[j], array[i])\n",
    "\n",
    "    # Swap the pivot element with the greater element specified by i\n",
    "    (array[i+1], array[high]) = (array[high], array[i+1])\n",
    "\n",
    "    # Return the position from where partition is done\n",
    "    return i+1\n",
    "\n",
    "# Function to perform quicksort\n",
    "def quick_sort(array, low, high):\n",
    "    if low < high:\n",
    "\n",
    "        # Find pivot element such that\n",
    "        # element smaller than pivot are on the left\n",
    "        # element greater than pivot are on the right\n",
    "        pi = partition(array, low, high)\n",
    "\n",
    "        quick_sort(array, low, pi-1)\n",
    "        quick_sort(array, pi+1, high)\n",
    "\n",
    "\n",
    "array = [10,7,8,9,1,5]\n",
    "quick_sort(array, 0, len(array)-1)\n",
    "print(f'Sorted array: {array}')"
   ]
  },
  {
   "cell_type": "markdown",
   "metadata": {},
   "source": [
    "##### Analysis of QuickSort\n",
    "Time taken by QuickSort, in general, can be written as following. \n",
    "\n",
    " T(n) = T(k) + T(n-k-1) + \\theta          (n)\n",
    "\n",
    "The first two terms are for two recursive calls, the last term is for the partition process. k is the number of elements which are smaller than pivot. \n",
    "The time taken by QuickSort depends upon the input array and partition strategy. Following are three cases.\n",
    "\n",
    "##### The solution of above recurrence is also O(nLogn)\n",
    "Although the worst case time complexity of QuickSort is O(n2) which is more than many other sorting algorithms like Merge Sort and Heap Sort, QuickSort is faster in practice, because its inner loop can be efficiently implemented on most architectures, and in most real-world data. QuickSort can be implemented in different ways by changing the choice of pivot, so that the worst case rarely occurs for a given type of data. However, merge sort is generally considered better when data is huge and stored in external storage. \n",
    "\n",
    "##### Questions\n",
    "1. Why Quick Sort is preferred over MergeSort for sorting Arrays ?\n",
    "2. Why MergeSort is preferred over QuickSort for Linked Lists ? \n"
   ]
  },
  {
   "cell_type": "markdown",
   "metadata": {},
   "source": [
    "Heap Sort\n",
    "==========\n",
    "Heap sort is a comparison-based sorting technique based on Binary Heap data structure. It is similar to selection sort where we first find the minimum element and place the minimum element at the beginning. We repeat the same process for the remaining elements.\n",
    "\n",
    "##### Algorithm for \"heapify\"\n",
    "heapify(array)\n",
    " Root = array[0]\n",
    "\n",
    "   Largest = largest( array[0] , array [2 * 0 + 1], array[2 * 0 + 2])\n",
    "if(Root != Largest)\n",
    " Swap(Root, Largest)"
   ]
  },
  {
   "cell_type": "code",
   "execution_count": 7,
   "metadata": {},
   "outputs": [
    {
     "name": "stdout",
     "output_type": "stream",
     "text": [
      "Sorted array is\n",
      "5 6 7 11 12 13 "
     ]
    }
   ],
   "source": [
    "def heapify(arr, n, i):\n",
    "    largest = i\n",
    "    l = 2*i+1\n",
    "    r = 2*i+2\n",
    "\n",
    "    # See if left/right child of root exists and is greater than root\n",
    "    if l<n and arr[largest]<arr[l]:\n",
    "        largest = l\n",
    "    \n",
    "    if r<n and arr[largest]<arr[r]:\n",
    "        largest = r\n",
    "    \n",
    "    # Change root, if needed\n",
    "    if largest != i:\n",
    "        arr[i], arr[largest] = arr[largest], arr[i]\n",
    "        heapify(arr,n,largest)\n",
    "\n",
    "def heapSort(arr):\n",
    "    n = len(arr)\n",
    "\n",
    "    # Build a maxheap\n",
    "    for i in range(n//2 - 1, -1, -1):\n",
    "        heapify(arr, n, i)\n",
    "\n",
    "    # One by one extract elements\n",
    "    for i in range(n-1, 0, -1):\n",
    "        arr[i], arr[0] = arr[0], arr[i]\n",
    "        heapify(arr, i, 0)\n",
    "\n",
    "\n",
    "arr = [12,11,13,5,6,7]\n",
    "heapSort(arr)\n",
    "n = len(arr)\n",
    "print(\"Sorted array is\")\n",
    "for i in range(n):\n",
    "    print(\"%d\" % arr[i], end=\" \")\n"
   ]
  },
  {
   "cell_type": "markdown",
   "metadata": {},
   "source": [
    "##### Time Complexity: O(nlogn)\n",
    "- Time complexity of heapify is O(Logn). \n",
    "- Time complexity of createAndBuildHeap() is O(n) \n",
    "- And, hence the overall time complexity of Heap Sort is O(nLogn).\n",
    "\n",
    "##### Advantages of heapsort\n",
    "- Efficiency –  The time required to perform Heap sort increases logarithmically while other algorithms may grow exponentially slower as the number of items to sort increases. This sorting algorithm is very efficient.\n",
    "- Memory Usage – Memory usage is minimal because apart from what is necessary to hold the initial list of items to be sorted, it needs no additional memory space to work\n",
    "- Simplicity –  It is simpler to understand than other equally efficient sorting algorithms because it does not use advanced computer science concepts such as recursion"
   ]
  }
 ],
 "metadata": {
  "kernelspec": {
   "display_name": "Python 3.10.5 64-bit (windows store)",
   "language": "python",
   "name": "python3"
  },
  "language_info": {
   "codemirror_mode": {
    "name": "ipython",
    "version": 3
   },
   "file_extension": ".py",
   "mimetype": "text/x-python",
   "name": "python",
   "nbconvert_exporter": "python",
   "pygments_lexer": "ipython3",
   "version": "3.10.5"
  },
  "orig_nbformat": 4,
  "vscode": {
   "interpreter": {
    "hash": "ff5d8768162e88d0d39226d83d8bbbfaa9aa18c5d290390f8d5157434fde1cb2"
   }
  }
 },
 "nbformat": 4,
 "nbformat_minor": 2
}
