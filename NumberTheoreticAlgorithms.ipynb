{
 "cells": [
  {
   "cell_type": "markdown",
   "metadata": {},
   "source": [
    "Number Theoretic Algorithms\n",
    "----------------------------\n",
    "\n",
    "##### 1. Euclidean Algorithm (Basic)"
   ]
  },
  {
   "cell_type": "code",
   "execution_count": 2,
   "metadata": {},
   "outputs": [
    {
     "name": "stdout",
     "output_type": "stream",
     "text": [
      "gcd( 10 , 15 ) = 5\n",
      "gcd( 35 , 10 ) = 5\n",
      "gcd( 31 , 2 ) = 1\n"
     ]
    }
   ],
   "source": [
    "def gcd(a,b):\n",
    "    if a==0:\n",
    "        return b\n",
    "    return gcd(b%a, a)\n",
    "\n",
    "a=10\n",
    "b=15\n",
    "print(\"gcd(\", a, \",\", b, \") =\", gcd(a,b))\n",
    "\n",
    "a=35\n",
    "b=10\n",
    "print(\"gcd(\", a, \",\", b, \") =\", gcd(a,b))\n",
    "\n",
    "a=31\n",
    "b=2\n",
    "print(\"gcd(\", a, \",\", b, \") =\", gcd(a,b))"
   ]
  },
  {
   "cell_type": "markdown",
   "metadata": {},
   "source": [
    "##### 2. Extended Euclidean Algorithm\n",
    "\n",
    "    x and y are updated using the below expressions. \n",
    "    x = y1 - ⌊b/a⌋ * x1\n",
    "    y = x1\n",
    "\n",
    "- How is Extended Algorithm Useful?           \n",
    "The extended Euclidean algorithm is particularly useful when a and b are coprime (or gcd is 1). Since x is the modular multiplicative inverse of “a modulo b”, and y is the modular multiplicative inverse of “b modulo a”. In particular, the computation of the modular multiplicative inverse is an essential step in RSA public-key encryption method."
   ]
  },
  {
   "cell_type": "code",
   "execution_count": 3,
   "metadata": {},
   "outputs": [
    {
     "name": "stdout",
     "output_type": "stream",
     "text": [
      "gcd( 35 , 15 ) =  5\n"
     ]
    }
   ],
   "source": [
    "def gcdExtended(a, b):\n",
    "    if a==0:\n",
    "        return b,0,1\n",
    "    \n",
    "    gcd, x1, y1 = gcdExtended(b%a, a)\n",
    "\n",
    "    x = y1 - (b//a) * x1\n",
    "    y = x1\n",
    "\n",
    "    return gcd, x, y\n",
    "\n",
    "a, b = 35, 15\n",
    "g, x, y = gcdExtended(a,b)\n",
    "print(\"gcd(\", a, \",\", b, \") = \", g)\n"
   ]
  },
  {
   "cell_type": "markdown",
   "metadata": {},
   "source": [
    "##### 3. Euler Totient Theorem\n",
    "\n",
    "This theorem generalizes Fermat's theorem and is an important key to the RSA algorithm.          \n",
    "If GCD(a, p) = 1, and a < p, then a^ϕ(p) ≡ 1 (mod p).           \n",
    "\n",
    "--> \"RSA Public-Key Cryptosystem\"             \n",
    "Creating public and secret keys:\n",
    "1. Select at random two large prime numbers p and q. The primes\n",
    "p and q might be, say, 512 bits each.\n",
    "2. Compute n by the equation n = pq.\n",
    "3. Select a small odd integer e relatively prime to φ(n) = (p–1)(q–1).\n",
    "4. Compute d as the multiplicative inverse of e, modulo φ(n).\n",
    "(Corollary 31.26 guarantees that d exists and is uniquely defined.)\n",
    "5. Define public key to be P = (e, n).\n",
    "6. Define secret key to be S = (d, n).\n",
    "\n",
    " Encrypt message M using public key P = (e, n) as follows: P(M) = M^e (mod n) = C         \n",
    " Decrypt ciphertext C using secret key S = (d, n) as follows: S(C) = C^d (mod n)          \n",
    " e.g.) n= p*q = 7*17 = 119         \n",
    " φ(n) = (p-1)(q-1) = (7-1)*(17-1)=96         \n",
    " Select a small odd integer e relatively prime to96: e=5          \n",
    " de = 1 mod 96, d<96         \n",
    "=> P = (e, n) =(5, 119), S = (d, n)=(77, 119)          \n",
    "\n",
    "\n",
    "\"Repeated Squaring Algorithm\"         \n",
    "\n",
    "    Mod-Exp (a, b, n)\n",
    "        c := 0;\n",
    "        d := 1;\n",
    "        let 〈bk, bk-1, ..., b0〉 = bits of b;\n",
    "        for i := k downto 0 do\n",
    "            c := 2c; /* don’t really need c */\n",
    "            d := (d⋅d) mod n;\n",
    "            if bi = 1 then\n",
    "                c := c + 1;\n",
    "                d := (d⋅a) mod n\n",
    "\n",
    "        return d\n",
    "\n",
    "ex) 3^9 mod 5 = 19683 mod 5 = 3"
   ]
  }
 ],
 "metadata": {
  "kernelspec": {
   "display_name": "Python 3.10.5 64-bit (windows store)",
   "language": "python",
   "name": "python3"
  },
  "language_info": {
   "codemirror_mode": {
    "name": "ipython",
    "version": 3
   },
   "file_extension": ".py",
   "mimetype": "text/x-python",
   "name": "python",
   "nbconvert_exporter": "python",
   "pygments_lexer": "ipython3",
   "version": "3.10.5"
  },
  "orig_nbformat": 4,
  "vscode": {
   "interpreter": {
    "hash": "ff5d8768162e88d0d39226d83d8bbbfaa9aa18c5d290390f8d5157434fde1cb2"
   }
  }
 },
 "nbformat": 4,
 "nbformat_minor": 2
}
