{
 "cells": [
  {
   "cell_type": "markdown",
   "metadata": {},
   "source": [
    "Divide And Conquer\n",
    "------------------\n",
    "1. Divide: This involves dividing the problem into smaller sub-problems.\n",
    "2. Conquer: Solve sub-problems by calling recursively until solved.\n",
    "3. Combine: Combine the sub-problems to get the final solution of the whole problem.\n"
   ]
  },
  {
   "cell_type": "code",
   "execution_count": 1,
   "metadata": {},
   "outputs": [
    {
     "name": "stdout",
     "output_type": "stream",
     "text": [
      "The minimum number in a given array is:  12\n",
      "The maximum number in a given array is:  250\n"
     ]
    }
   ],
   "source": [
    "# Function to find the maximum no. in a given array\n",
    "def DAC_Max(a, index, l):\n",
    "    max=-1\n",
    "\n",
    "    if index>=l-2:\n",
    "        if a[index]>a[index+1]:\n",
    "            return a[index]\n",
    "        else:\n",
    "            return a[index+1]\n",
    "    \n",
    "    # Logic to find the Maximum element in the given array\n",
    "    max = DAC_Max(a,index+1,l)\n",
    "\n",
    "    if a[index]>max:\n",
    "        return a[index]\n",
    "    else:\n",
    "        return max\n",
    "    \n",
    "# Function to find the minimum no. in a given array\n",
    "def DAC_Min(a, index, l):\n",
    "    min=0\n",
    "    if index>=l-2:\n",
    "        if a[index]<a[index+1]:\n",
    "            return a[index]\n",
    "        else:\n",
    "            return a[index+1]\n",
    "    \n",
    "    # Logic to find the Minimum element in the given array\n",
    "    min = DAC_Min(a,index+1,l)\n",
    "\n",
    "    if a[index]<min:\n",
    "        return a[index]\n",
    "    else:\n",
    "        return min\n",
    "\n",
    "if __name__ == '__main__':\n",
    "    min, max = 0, -1\n",
    "    a=[70,250,50,80,140,12,14]\n",
    "    max=DAC_Max(a,0,7)\n",
    "    min=DAC_Min(a,0,7)\n",
    "    print(\"The minimum number in a given array is: \", min)\n",
    "    print(\"The maximum number in a given array is: \", max)\n",
    "    \n"
   ]
  },
  {
   "cell_type": "markdown",
   "metadata": {},
   "source": [
    "##### Divide and Conquer (D & C) vs Dynamic Programming (DP) \n",
    "Both paradigms (D & C and DP) divide the given problem into subproblems and solve subproblems. How do choose one of them for a given problem? Divide and Conquer should be used when the same subproblems are not evaluated many times. Otherwise Dynamic Programming or Memoization should be used. For example, Quicksort is a Divide and Conquer algorithm, we never evaluate the same subproblems again. On the other hand, for calculating the nth Fibonacci number, Dynamic Programming should be preferred (See this for details).\n",
    "\n",
    "Time Complexity: T(n) = aT(n/b) + f(n)\n",
    "\n",
    "1. Advantages of Divide and Conquer Algorithm\n",
    "- The difficult problem can be solved easily.\n",
    "- It divides the entire problem into subproblems thus it can be solved parallelly ensuring multiprocessing\n",
    "- Efficiently uses cache memory without occupying much space\n",
    "- Reduces time complexity of the problem\n",
    "\n",
    "2. Disadvantages of Divide and Conquer Algorithm\n",
    "- It involves recursion which is sometimes slow\n",
    "- Efficiency depends on the implementation of logic\n",
    "- It may crash the system if the recursion is performed rigorously"
   ]
  },
  {
   "cell_type": "markdown",
   "metadata": {},
   "source": [
    "##### Program for Tower of Hanoi\n",
    "The pattern here is :\n",
    " - Shift 'n-1' disks from 'A' to 'B', using C.\n",
    " - Shift last disk from 'A' to 'C'.\n",
    " - Shift 'n-1' disks from 'B' to 'C', using A.\n"
   ]
  },
  {
   "cell_type": "code",
   "execution_count": 2,
   "metadata": {},
   "outputs": [
    {
     "name": "stdout",
     "output_type": "stream",
     "text": [
      "Move disk 1 from rod A to rod B\n",
      "Move disk 2 from rod A to rod C\n",
      "Move disk 1 from rod B to rod C\n",
      "Move disk 3 from rod A to rod B\n",
      "Move disk 1 from rod C to rod A\n",
      "Move disk 2 from rod C to rod B\n",
      "Move disk 1 from rod A to rod B\n",
      "Move disk 4 from rod A to rod C\n",
      "Move disk 1 from rod B to rod C\n",
      "Move disk 2 from rod B to rod A\n",
      "Move disk 1 from rod C to rod A\n",
      "Move disk 3 from rod B to rod C\n",
      "Move disk 1 from rod A to rod B\n",
      "Move disk 2 from rod A to rod C\n",
      "Move disk 1 from rod B to rod C\n"
     ]
    }
   ],
   "source": [
    "def TowerOfHanoi(n, from_rod, to_rod, aux_rod):\n",
    "    if n==0:\n",
    "        return\n",
    "    TowerOfHanoi(n-1,from_rod,aux_rod,to_rod)\n",
    "    print(\"Move disk\",n,\"from rod\",from_rod,\"to rod\",to_rod)\n",
    "    TowerOfHanoi(n-1,aux_rod,to_rod,from_rod)\n",
    "    \n",
    "n=4\n",
    "TowerOfHanoi(n,'A','C','B')"
   ]
  }
 ],
 "metadata": {
  "kernelspec": {
   "display_name": "Python 3.8.5 ('base')",
   "language": "python",
   "name": "python3"
  },
  "language_info": {
   "codemirror_mode": {
    "name": "ipython",
    "version": 3
   },
   "file_extension": ".py",
   "mimetype": "text/x-python",
   "name": "python",
   "nbconvert_exporter": "python",
   "pygments_lexer": "ipython3",
   "version": "3.8.5"
  },
  "orig_nbformat": 4,
  "vscode": {
   "interpreter": {
    "hash": "84cf9690e41fc74f2312d3b45a642fff260182635cefe76d36280ba66f031f20"
   }
  }
 },
 "nbformat": 4,
 "nbformat_minor": 2
}
