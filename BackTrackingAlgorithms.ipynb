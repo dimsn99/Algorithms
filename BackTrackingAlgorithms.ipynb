{
 "cells": [
  {
   "cell_type": "markdown",
   "metadata": {},
   "source": [
    "Backtracking\n",
    "-------------\n",
    "Backtracking is an algorithmic technique for solving problems recursively by trying to build a solution incrementally, one piece at a time, removing those solutions that fail to satisfy the constraints of the problem at any point in time (by time, here, is referred to the time elapsed till reaching any level of the search tree).\n",
    "Backtracking can be defined as a general algorithmic technique that considers searching every possible combination in order to solve a computational problem. (Wiki)\n",
    "\n",
    "There are three types of problems in backtracking –  \n",
    "\n",
    "    Decision Problem – In this, we search for a feasible solution.\n",
    "    Optimization Problem – In this, we search for the best solution.\n",
    "    Enumeration Problem – In this, we find all feasible solutions.\n",
    "\n",
    "- Backtracking is used to solve problems in which a sequence of objects is\n",
    "chosen from a specified set so that the sequence satisfies some criterion.         \n",
    "- Backtracking is a modified depth-first search of a tree.        \n",
    "- Backtracking involves only a tree search.         \n",
    "- Backtracking is the procedure whereby, after determining that a node\n",
    "can lead to nothing but dead nodes, we go back (“backtrack”) to the\n",
    "node’s parent and proceed with the search on the next child.          \n",
    "\n",
    "##### Backtracking Algorithm\n",
    "    void findSolutions(n, other params) :\n",
    "        if (found a solution) :\n",
    "            solutionsFound = solutionsFound + 1;\n",
    "            displaySolution();\n",
    "            if (solutionsFound >= solutionTarget) : \n",
    "                System.exit(0);\n",
    "            return\n",
    "\n",
    "        for (val = first to last) :\n",
    "            if (isValid(val, n)) :\n",
    "                applyValue(val, n);\n",
    "                findSolutions(n+1, other params);\n",
    "                removeValue(val, n);"
   ]
  },
  {
   "cell_type": "markdown",
   "metadata": {},
   "source": [
    "##### 1. N Queen Problem\n",
    "\"Algorithm\"\n",
    "\n",
    "      1) Start in the leftmost column\n",
    "      2) If all queens are placed\n",
    "         return true\n",
    "      3) Try all rows in the current column. \n",
    "         Do following for every tried row.\n",
    "         a) If the queen can be placed safely in this row \n",
    "            then mark this [row, column] as part of the \n",
    "            solution and recursively check if placing\n",
    "            queen here leads to a solution.\n",
    "         b) If placing the queen in [row, column] leads to\n",
    "            a solution then return true.\n",
    "         c) If placing queen doesn't lead to a solution then\n",
    "            unmark this [row, column] (Backtrack) and go to \n",
    "            step (a) to try other rows.\n",
    "      4) If all rows have been tried and nothing worked,\n",
    "         return false to trigger backtracking.\n"
   ]
  },
  {
   "cell_type": "code",
   "execution_count": 1,
   "metadata": {},
   "outputs": [
    {
     "name": "stdout",
     "output_type": "stream",
     "text": [
      "0 0 1 0 \n",
      "1 0 0 0 \n",
      "0 0 0 1 \n",
      "0 1 0 0 \n"
     ]
    },
    {
     "data": {
      "text/plain": [
       "True"
      ]
     },
     "execution_count": 1,
     "metadata": {},
     "output_type": "execute_result"
    }
   ],
   "source": [
    "global N\n",
    "N = 4\n",
    "\n",
    "def printSolution(board):\n",
    "    for i in range(N):\n",
    "        for j in range(N):\n",
    "            print(board[i][j], end=' ')\n",
    "        print()\n",
    "\n",
    "# A utility function to check if a queen can\n",
    "# be placed on board[row][col]. Note that this\n",
    "# function is called when \"col\" queens are\n",
    "# already placed in columns from 0 to col -1.\n",
    "# So we need to check only left side for\n",
    "# attacking queens\n",
    "def isSafe(board, row, col):\n",
    "\n",
    "    # check this row on left side\n",
    "    for i in range(col):\n",
    "        if board[row][i] == 1:\n",
    "            return False\n",
    "    \n",
    "    # check upper diagonal on left side\n",
    "    for i, j in zip(range(row, -1, -1), range(col, -1, -1)):\n",
    "        if board[i][j] == 1:\n",
    "            return False\n",
    "    \n",
    "    # check lower diagonal on left side\n",
    "    for i, j in zip(range(row, N, -1), range(col, -1, -1)):\n",
    "        if board[i][j] == 1:\n",
    "            return False\n",
    "    \n",
    "    return True\n",
    "\n",
    "def solveNQUtil(board, col):\n",
    "\n",
    "    # base case: If all queens are placed\n",
    "    # then return true\n",
    "    if col >= N:\n",
    "        return True\n",
    "  \n",
    "    # Consider this column and try placing\n",
    "    # this queen in all rows one by one\n",
    "    for i in range(N):\n",
    "  \n",
    "        if isSafe(board, i, col):\n",
    "              \n",
    "            # Place this queen in board[i][col]\n",
    "            board[i][col] = 1\n",
    "  \n",
    "            # recur to place rest of the queens\n",
    "            if solveNQUtil(board, col + 1) == True:\n",
    "                return True\n",
    "  \n",
    "            # If placing queen in board[i][col\n",
    "            # doesn't lead to a solution, then\n",
    "            # queen from board[i][col]\n",
    "            board[i][col] = 0\n",
    "  \n",
    "    # if the queen can not be placed in any row in\n",
    "    # this column col then return false\n",
    "    return False\n",
    "\n",
    "# This function solves the N Queen problem using\n",
    "# Backtracking. It mainly uses solveNQUtil() to\n",
    "# solve the problem. It returns false if queens\n",
    "# cannot be placed, otherwise return true and\n",
    "# placement of queens in the form of 1s.\n",
    "# note that there may be more than one\n",
    "# solutions, this function prints one of the\n",
    "# feasible solutions.\n",
    "def solveNQ():\n",
    "    board = [ [0, 0, 0, 0],\n",
    "              [0, 0, 0, 0],\n",
    "              [0, 0, 0, 0],\n",
    "              [0, 0, 0, 0] ]\n",
    "  \n",
    "    if solveNQUtil(board, 0) == False:\n",
    "        print (\"Solution does not exist\")\n",
    "        return False\n",
    "  \n",
    "    printSolution(board)\n",
    "    return True\n",
    "  \n",
    "# Driver Code\n",
    "solveNQ()"
   ]
  },
  {
   "cell_type": "markdown",
   "metadata": {},
   "source": [
    "##### 2. M Graph Coloring Problem\n",
    "\n",
    "The idea is to assign colors one by one to different vertices, starting from the vertex 0. Before assigning a color, check for safety by considering already assigned colors to the adjacent vertices i.e check if the adjacent vertices have the same color or not.\n",
    "\n",
    "\"Algorithm\"\n",
    "\n",
    "1. Create a recursive function that takes the graph, current index, number of vertices, and output color array.\n",
    "2. If the current index is equal to the number of vertices. Print the color configuration in output array.\n",
    "3. Assign a color to a vertex (1 to m).\n",
    "4. For every assigned color, check if the configuration is safe, (i.e. check if the adjacent vertices do not have the same color) recursively call the function with next index and number of vertices\n",
    "5. If any recursive function returns true break the loop and return true.\n",
    "6. If no recursive function returns true then return false."
   ]
  },
  {
   "cell_type": "code",
   "execution_count": 2,
   "metadata": {},
   "outputs": [
    {
     "name": "stdout",
     "output_type": "stream",
     "text": [
      "Solution exist and Following are the assigned colours:\n",
      "1 2 3 2 "
     ]
    },
    {
     "data": {
      "text/plain": [
       "True"
      ]
     },
     "execution_count": 2,
     "metadata": {},
     "output_type": "execute_result"
    }
   ],
   "source": [
    "class Graph():\n",
    " \n",
    "    def __init__(self, vertices):\n",
    "        self.V = vertices\n",
    "        self.graph = [[0 for column in range(vertices)]\\\n",
    "                              for row in range(vertices)]\n",
    " \n",
    "    # A utility function to check\n",
    "    # if the current color assignment\n",
    "    # is safe for vertex v\n",
    "    def isSafe(self, v, colour, c):\n",
    "        for i in range(self.V):\n",
    "            if self.graph[v][i] == 1 and colour[i] == c:\n",
    "                return False\n",
    "        return True\n",
    "     \n",
    "    # A recursive utility function to solve m\n",
    "    # coloring  problem\n",
    "    def graphColourUtil(self, m, colour, v):\n",
    "        if v == self.V:\n",
    "            return True\n",
    " \n",
    "        for c in range(1, m + 1):\n",
    "            if self.isSafe(v, colour, c) == True:\n",
    "                colour[v] = c\n",
    "                if self.graphColourUtil(m, colour, v + 1) == True:\n",
    "                    return True\n",
    "                colour[v] = 0\n",
    " \n",
    "    def graphColouring(self, m):\n",
    "        colour = [0] * self.V\n",
    "        if self.graphColourUtil(m, colour, 0) == None:\n",
    "            return False\n",
    " \n",
    "        # Print the solution\n",
    "        print (\"Solution exist and Following are the assigned colours:\")\n",
    "        for c in colour:\n",
    "            print (c,end=' ')\n",
    "        return True\n",
    " \n",
    "# Driver Code\n",
    "g = Graph(4)\n",
    "g.graph = [[0, 1, 1, 1], [1, 0, 1, 0], [1, 1, 0, 1], [1, 0, 1, 0]]\n",
    "m = 3\n",
    "g.graphColouring(m)"
   ]
  }
 ],
 "metadata": {
  "kernelspec": {
   "display_name": "Python 3.10.5 64-bit (windows store)",
   "language": "python",
   "name": "python3"
  },
  "language_info": {
   "codemirror_mode": {
    "name": "ipython",
    "version": 3
   },
   "file_extension": ".py",
   "mimetype": "text/x-python",
   "name": "python",
   "nbconvert_exporter": "python",
   "pygments_lexer": "ipython3",
   "version": "3.10.5"
  },
  "orig_nbformat": 4,
  "vscode": {
   "interpreter": {
    "hash": "ff5d8768162e88d0d39226d83d8bbbfaa9aa18c5d290390f8d5157434fde1cb2"
   }
  }
 },
 "nbformat": 4,
 "nbformat_minor": 2
}
